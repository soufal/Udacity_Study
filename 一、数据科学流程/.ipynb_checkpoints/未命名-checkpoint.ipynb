{
 "cells": [
  {
   "cell_type": "code",
   "execution_count": 13,
   "metadata": {},
   "outputs": [
    {
     "data": {
      "text/plain": [
       "(51392, 154)"
      ]
     },
     "execution_count": 13,
     "metadata": {},
     "output_type": "execute_result"
    }
   ],
   "source": [
    "import numpy as np\n",
    "import pandas as pd\n",
    "import matplotlib.pyplot as plt\n",
    "%matplotlib inline\n",
    "\n",
    "df = pd.read_csv('../Data/survey-results-public.csv')\n",
    "df['TimeAfterBootcamp'].head()\n",
    "df.shape"
   ]
  },
  {
   "cell_type": "markdown",
   "metadata": {},
   "source": [
    "筛选出bootcamp 的毕业生。"
   ]
  },
  {
   "cell_type": "code",
   "execution_count": 15,
   "metadata": {},
   "outputs": [
    {
     "data": {
      "text/plain": [
       "0.050630448318804484"
      ]
     },
     "execution_count": 15,
     "metadata": {},
     "output_type": "execute_result"
    }
   ],
   "source": [
    "bootcamp_df = df[df.TimeAfterBootcamp.isnull() == False]\n",
    "bootcamp_df.head()\n",
    "\n",
    "not_bootcamp_df = df[df.TimeAfterBootcamp.isnull() == True]\n",
    "not_bootcamp_df.head()\n",
    "bootcamp_df.shape[0] / df.shape[0]"
   ]
  },
  {
   "cell_type": "code",
   "execution_count": 16,
   "metadata": {},
   "outputs": [
    {
     "data": {
      "text/plain": [
       "Male                                                       0.863071\n",
       "Female                                                     0.112494\n",
       "Other                                                      0.006455\n",
       "Gender non-conforming                                      0.005533\n",
       "Male; Other                                                0.002766\n",
       "Male; Gender non-conforming                                0.001383\n",
       "Female; Gender non-conforming                              0.001383\n",
       "Male; Female                                               0.000922\n",
       "Male; Transgender                                          0.000922\n",
       "Male; Female; Transgender; Gender non-conforming; Other    0.000922\n",
       "Transgender; Gender non-conforming                         0.000922\n",
       "Transgender                                                0.000922\n",
       "Female; Transgender; Gender non-conforming                 0.000922\n",
       "Male; Female; Transgender; Gender non-conforming           0.000461\n",
       "Female; Gender non-conforming; Other                       0.000461\n",
       "Male; Gender non-conforming; Other                         0.000461\n",
       "Name: Gender, dtype: float64"
      ]
     },
     "execution_count": 16,
     "metadata": {},
     "output_type": "execute_result"
    }
   ],
   "source": [
    "#查看在bootcamp中的性别占比情况\n",
    "bootcamp_df['Gender'].value_counts() / (bootcamp_df.shape[0] - sum(bootcamp_df.Gender.isnull()))"
   ]
  },
  {
   "cell_type": "code",
   "execution_count": 17,
   "metadata": {},
   "outputs": [
    {
     "data": {
      "text/plain": [
       "Male                                                       0.903857\n",
       "Female                                                     0.071659\n",
       "Other                                                      0.006418\n",
       "Male; Other                                                0.005019\n",
       "Gender non-conforming                                      0.004501\n",
       "Male; Gender non-conforming                                0.001886\n",
       "Female; Transgender                                        0.001703\n",
       "Transgender                                                0.001612\n",
       "Female; Gender non-conforming                              0.000791\n",
       "Male; Female; Transgender; Gender non-conforming; Other    0.000395\n",
       "Transgender; Gender non-conforming                         0.000395\n",
       "Male; Female                                               0.000395\n",
       "Male; Transgender                                          0.000274\n",
       "Male; Female; Transgender; Gender non-conforming           0.000182\n",
       "Female; Transgender; Gender non-conforming                 0.000182\n",
       "Gender non-conforming; Other                               0.000122\n",
       "Male; Female; Transgender                                  0.000122\n",
       "Male; Transgender; Gender non-conforming                   0.000122\n",
       "Male; Gender non-conforming; Other                         0.000061\n",
       "Male; Female; Other                                        0.000061\n",
       "Male; Female; Transgender; Other                           0.000030\n",
       "Female; Transgender; Gender non-conforming; Other          0.000030\n",
       "Male; Female; Gender non-conforming; Other                 0.000030\n",
       "Male; Female; Gender non-conforming                        0.000030\n",
       "Transgender; Other                                         0.000030\n",
       "Female; Other                                              0.000030\n",
       "Female; Transgender; Other                                 0.000030\n",
       "Male; Transgender; Other                                   0.000030\n",
       "Name: Gender, dtype: float64"
      ]
     },
     "execution_count": 17,
     "metadata": {},
     "output_type": "execute_result"
    }
   ],
   "source": [
    "#查看在notbootcamp中的性别占比情况\n",
    "not_bootcamp_df['Gender'].value_counts() / (not_bootcamp_df.shape[0] - sum(not_bootcamp_df.Gender.isnull()))"
   ]
  },
  {
   "cell_type": "code",
   "execution_count": 18,
   "metadata": {},
   "outputs": [
    {
     "data": {
      "text/plain": [
       "Bachelor's degree                                                    0.475019\n",
       "Master's degree                                                      0.225211\n",
       "Some college/university study without earning a bachelor's degree    0.162567\n",
       "Secondary school                                                     0.069562\n",
       "Doctoral degree                                                      0.022291\n",
       "Professional degree                                                  0.016141\n",
       "I prefer not to answer                                               0.011914\n",
       "Primary/elementary school                                            0.009224\n",
       "I never completed any formal education                               0.008071\n",
       "Name: FormalEducation, dtype: float64"
      ]
     },
     "execution_count": 18,
     "metadata": {},
     "output_type": "execute_result"
    }
   ],
   "source": [
    "#查看在bootcamp中的formaleducation占比情况\n",
    "bootcamp_df['FormalEducation'].value_counts() / (bootcamp_df.shape[0] - sum(bootcamp_df.FormalEducation.isnull()))"
   ]
  },
  {
   "cell_type": "code",
   "execution_count": 21,
   "metadata": {},
   "outputs": [
    {
     "data": {
      "text/plain": [
       "Bachelor's degree                                                    0.417565\n",
       "Master's degree                                                      0.216335\n",
       "Some college/university study without earning a bachelor's degree    0.157942\n",
       "Secondary school                                                     0.117381\n",
       "Doctoral degree                                                      0.025620\n",
       "I prefer not to answer                                               0.022095\n",
       "Primary/elementary school                                            0.020967\n",
       "Professional degree                                                  0.013794\n",
       "I never completed any formal education                               0.008301\n",
       "Name: FormalEducation, dtype: float64"
      ]
     },
     "execution_count": 21,
     "metadata": {},
     "output_type": "execute_result"
    }
   ],
   "source": [
    "#查看在notbootcamp中的formaleducation占比情况\n",
    "not_bootcamp_df['FormalEducation'].value_counts() / (not_bootcamp_df.shape[0] - sum(not_bootcamp_df.FormalEducation.isnull()))"
   ]
  },
  {
   "cell_type": "code",
   "execution_count": 23,
   "metadata": {},
   "outputs": [
    {
     "data": {
      "text/plain": [
       "I already had a job as a developer when I started the program    0.458493\n",
       "Immediately upon graduating                                      0.112990\n",
       "I got a job as a developer before completing the program         0.096849\n",
       "One to three months                                              0.087625\n",
       "I haven't gotten a job as a developer yet                        0.081091\n",
       "Less than a month                                                0.059954\n",
       "Four to six months                                               0.040354\n",
       "Longer than a year                                               0.032667\n",
       "Six months to a year                                             0.029977\n",
       "Name: TimeAfterBootcamp, dtype: float64"
      ]
     },
     "execution_count": 23,
     "metadata": {},
     "output_type": "execute_result"
    }
   ],
   "source": [
    "#查看在参加训练营后多久找到工作\n",
    "bootcamp_df['TimeAfterBootcamp'].value_counts() / bootcamp_df.shape[0]"
   ]
  },
  {
   "cell_type": "code",
   "execution_count": null,
   "metadata": {},
   "outputs": [],
   "source": []
  }
 ],
 "metadata": {
  "kernelspec": {
   "display_name": "Python 3",
   "language": "python",
   "name": "python3"
  },
  "language_info": {
   "codemirror_mode": {
    "name": "ipython",
    "version": 3
   },
   "file_extension": ".py",
   "mimetype": "text/x-python",
   "name": "python",
   "nbconvert_exporter": "python",
   "pygments_lexer": "ipython3",
   "version": "3.7.3"
  }
 },
 "nbformat": 4,
 "nbformat_minor": 2
}
