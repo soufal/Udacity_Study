{
 "cells": [
  {
   "cell_type": "markdown",
   "metadata": {},
   "source": [
    "### 删除缺失值 - Part II\n",
    "\n",
    "现在你已经了解了如何删除存在缺失值的行来拟合模型，这样很棒，因为 sklearn 不会因为有缺失值而报错了。但这也意味着，我们将无法预测包含缺失值的数据。\n",
    "\n",
    "在这个 Notebook 里，我们将回答上一视频里的几个问题，并且进行更多的步骤。"
   ]
  },
  {
   "cell_type": "code",
   "execution_count": 9,
   "metadata": {},
   "outputs": [
    {
     "data": {
      "text/plain": [
       "(19102, 5)"
      ]
     },
     "execution_count": 9,
     "metadata": {},
     "output_type": "execute_result"
    }
   ],
   "source": [
    "import numpy as np\n",
    "import pandas as pd\n",
    "import matplotlib.pyplot as plt\n",
    "from sklearn.linear_model import LinearRegression\n",
    "from sklearn.model_selection import train_test_split\n",
    "from sklearn.metrics import r2_score, mean_squared_error\n",
    "import seaborn as sns\n",
    "# import RemovingData as t\n",
    "%matplotlib inline\n",
    "\n",
    "df = pd.read_csv('../Data/survey_results_public.csv')\n",
    "\n",
    "#Subset to only quantitative vars\n",
    "num_vars = df[['Salary', 'CareerSatisfaction', 'HoursPerWeek', 'JobSatisfaction', 'StackOverflowSatisfaction']]\n",
    "\n",
    "\n",
    "num_vars.head()\n",
    "num_vars.shape"
   ]
  },
  {
   "cell_type": "markdown",
   "metadata": {},
   "source": [
    "#### Question 1\n",
    "\n",
    "**1.** 数据里提供了工资信息的人，其占比是多少？"
   ]
  },
  {
   "cell_type": "code",
   "execution_count": 11,
   "metadata": {},
   "outputs": [
    {
     "data": {
      "text/plain": [
       "0         True\n",
       "1         True\n",
       "2        False\n",
       "3         True\n",
       "4         True\n",
       "         ...  \n",
       "19097     True\n",
       "19098     True\n",
       "19099     True\n",
       "19100    False\n",
       "19101     True\n",
       "Name: Salary, Length: 19102, dtype: bool"
      ]
     },
     "execution_count": 11,
     "metadata": {},
     "output_type": "execute_result"
    }
   ],
   "source": [
    "num_vars['Salary'].isnull()"
   ]
  },
  {
   "cell_type": "code",
   "execution_count": 10,
   "metadata": {},
   "outputs": [
    {
     "data": {
      "text/plain": [
       "0.26222385090566436"
      ]
     },
     "execution_count": 10,
     "metadata": {},
     "output_type": "execute_result"
    }
   ],
   "source": [
    "#方法一\n",
    "prop_sals = num_vars.dropna(subset=['Salary']).shape[0] / num_vars.shape[0]# Proportion of individuals in the dataset with salary reported\n",
    "#方法二\n",
    "prop_sals1 = 1 - num_vars['Salary'].isnull().mean()\n",
    "prop_sals1"
   ]
  },
  {
   "cell_type": "code",
   "execution_count": 55,
   "metadata": {},
   "outputs": [
    {
     "name": "stdout",
     "output_type": "stream",
     "text": [
      "Nice job! That looks right!\n"
     ]
    }
   ],
   "source": [
    "t.prop_sals_test(prop_sals) #test"
   ]
  },
  {
   "cell_type": "markdown",
   "metadata": {},
   "source": [
    "#### Question 2\n",
    "\n",
    "**2.** 删除 **num_vars** 数据集中，Salary 列存在缺失值的所有数据行。将得到的新数据保存在 **sal_rem** 变量中。"
   ]
  },
  {
   "cell_type": "code",
   "execution_count": 12,
   "metadata": {},
   "outputs": [
    {
     "data": {
      "text/html": [
       "<div>\n",
       "<style scoped>\n",
       "    .dataframe tbody tr th:only-of-type {\n",
       "        vertical-align: middle;\n",
       "    }\n",
       "\n",
       "    .dataframe tbody tr th {\n",
       "        vertical-align: top;\n",
       "    }\n",
       "\n",
       "    .dataframe thead th {\n",
       "        text-align: right;\n",
       "    }\n",
       "</style>\n",
       "<table border=\"1\" class=\"dataframe\">\n",
       "  <thead>\n",
       "    <tr style=\"text-align: right;\">\n",
       "      <th></th>\n",
       "      <th>Salary</th>\n",
       "      <th>CareerSatisfaction</th>\n",
       "      <th>HoursPerWeek</th>\n",
       "      <th>JobSatisfaction</th>\n",
       "      <th>StackOverflowSatisfaction</th>\n",
       "    </tr>\n",
       "  </thead>\n",
       "  <tbody>\n",
       "    <tr>\n",
       "      <th>2</th>\n",
       "      <td>113750.0</td>\n",
       "      <td>8.0</td>\n",
       "      <td>NaN</td>\n",
       "      <td>9.0</td>\n",
       "      <td>8.0</td>\n",
       "    </tr>\n",
       "    <tr>\n",
       "      <th>14</th>\n",
       "      <td>100000.0</td>\n",
       "      <td>8.0</td>\n",
       "      <td>NaN</td>\n",
       "      <td>8.0</td>\n",
       "      <td>8.0</td>\n",
       "    </tr>\n",
       "    <tr>\n",
       "      <th>17</th>\n",
       "      <td>130000.0</td>\n",
       "      <td>9.0</td>\n",
       "      <td>NaN</td>\n",
       "      <td>8.0</td>\n",
       "      <td>8.0</td>\n",
       "    </tr>\n",
       "    <tr>\n",
       "      <th>18</th>\n",
       "      <td>82500.0</td>\n",
       "      <td>5.0</td>\n",
       "      <td>NaN</td>\n",
       "      <td>3.0</td>\n",
       "      <td>NaN</td>\n",
       "    </tr>\n",
       "    <tr>\n",
       "      <th>22</th>\n",
       "      <td>100764.0</td>\n",
       "      <td>8.0</td>\n",
       "      <td>NaN</td>\n",
       "      <td>9.0</td>\n",
       "      <td>8.0</td>\n",
       "    </tr>\n",
       "  </tbody>\n",
       "</table>\n",
       "</div>"
      ],
      "text/plain": [
       "      Salary  CareerSatisfaction  HoursPerWeek  JobSatisfaction  \\\n",
       "2   113750.0                 8.0           NaN              9.0   \n",
       "14  100000.0                 8.0           NaN              8.0   \n",
       "17  130000.0                 9.0           NaN              8.0   \n",
       "18   82500.0                 5.0           NaN              3.0   \n",
       "22  100764.0                 8.0           NaN              9.0   \n",
       "\n",
       "    StackOverflowSatisfaction  \n",
       "2                         8.0  \n",
       "14                        8.0  \n",
       "17                        8.0  \n",
       "18                        NaN  \n",
       "22                        8.0  "
      ]
     },
     "execution_count": 12,
     "metadata": {},
     "output_type": "execute_result"
    }
   ],
   "source": [
    "sal_rm = num_vars.dropna(subset=['Salary'])# dataframe with rows for nan Salaries removed\n",
    "\n",
    "sal_rm.head()\n",
    "# sal_rm.shape"
   ]
  },
  {
   "cell_type": "code",
   "execution_count": 57,
   "metadata": {},
   "outputs": [
    {
     "name": "stdout",
     "output_type": "stream",
     "text": [
      "Nice job! That looks right!\n"
     ]
    }
   ],
   "source": [
    "t.sal_rm_test(sal_rm) #test"
   ]
  },
  {
   "cell_type": "markdown",
   "metadata": {},
   "source": [
    "#### Question 3\n",
    "\n",
    "**3.** 使用 **sal_rm** 数据中的所有数值变量，创建一个 DataFrame `X`（矩阵）。将要预测的目标变量（Salary）保存到 `y` 中。划分好数据之后，运行下面的代码，根据得到的结果，将正确的字母与 **question3_solution** 里的陈述匹配。"
   ]
  },
  {
   "cell_type": "code",
   "execution_count": 58,
   "metadata": {},
   "outputs": [
    {
     "name": "stdout",
     "output_type": "stream",
     "text": [
      "Oh no! It doesn't work!!!\n"
     ]
    }
   ],
   "source": [
    "X = sal_rm[['CareerSatisfaction', 'HoursPerWeek', 'JobSatisfaction', 'StackOverflowSatisfaction']]#Create X using explanatory variables from sal_rm\n",
    "y = sal_rm['Salary']#Create y using the response variable of Salary\n",
    "\n",
    "# Split data into training and test data, and fit a linear model\n",
    "X_train, X_test, y_train, y_test = train_test_split(X, y , test_size=.30, random_state=42)\n",
    "\n",
    "#normalize参数的作用是将每列的值减去其均值，\n",
    "#然后再除以标准偏差，做标准化处理\n",
    "lm_model = LinearRegression(normalize=True)\n",
    "\n",
    "# If our model works, it should just fit our model to the data. Otherwise, it will let us know.\n",
    "try:\n",
    "    lm_model.fit(X_train, y_train)\n",
    "except:\n",
    "    print(\"Oh no! It doesn't work!!!\")\n"
   ]
  },
  {
   "cell_type": "code",
   "execution_count": 59,
   "metadata": {},
   "outputs": [
    {
     "name": "stdout",
     "output_type": "stream",
     "text": [
      "Nice job! That's right! Those missing values in the X matrix will still not allow us to predict the response.\n"
     ]
    }
   ],
   "source": [
    "a = 'Python just likes to break sometimes for no reason at all.' \n",
    "b = 'It worked, because Python is magic.'\n",
    "c = 'It broke because we still have missing values in X'\n",
    "\n",
    "question3_solution = c\n",
    "\n",
    "#test\n",
    "t.question3_check(question3_solution)"
   ]
  },
  {
   "cell_type": "markdown",
   "metadata": {},
   "source": [
    "#### Question 4\n",
    "\n",
    "**4.** 移除 **num_vars** 中所有包含缺失值的行（之前视频中有讲到过）。将得到的数据存放在 **all_rm** 变量中。 "
   ]
  },
  {
   "cell_type": "code",
   "execution_count": 60,
   "metadata": {},
   "outputs": [
    {
     "data": {
      "text/plain": [
       "(2147, 5)"
      ]
     },
     "execution_count": 60,
     "metadata": {},
     "output_type": "execute_result"
    }
   ],
   "source": [
    "all_rm = num_vars.dropna()# dataframe with rows for any nan column removed\n",
    "\n",
    "all_rm.head()\n",
    "all_rm.shape\n"
   ]
  },
  {
   "cell_type": "code",
   "execution_count": 61,
   "metadata": {},
   "outputs": [
    {
     "name": "stdout",
     "output_type": "stream",
     "text": [
      "Nice job! That looks right.  The default is to drop any row with a missing value in any column, so we didn't need to specify any arguments in this case.\n"
     ]
    }
   ],
   "source": [
    "t.all_rm_test(all_rm) #test"
   ]
  },
  {
   "cell_type": "markdown",
   "metadata": {},
   "source": [
    "#### Question 5\n",
    "\n",
    "**5.** 提取 **all_rm** 中所有的数值变量，并将其存在 **X_2** 变量中。需要预测的 Salary 存在 **y_2** 中。划分好数据之后，运行下面的代码，依据得到的结果，将正确的字母与 **question5_solution** 里的陈述匹配。"
   ]
  },
  {
   "cell_type": "code",
   "execution_count": 62,
   "metadata": {},
   "outputs": [],
   "source": [
    "X_2 = all_rm[['CareerSatisfaction', 'HoursPerWeek', 'JobSatisfaction', 'StackOverflowSatisfaction']]#Create X using explanatory variables from sal_rm\n",
    "y_2 = all_rm['Salary']#Create y using Salary from sal_rm\n",
    "\n",
    "# Split data into training and test data, and fit a linear model\n",
    "X_2_train, X_2_test, y_2_train, y_2_test = train_test_split(X_2, y_2 , test_size=.30, random_state=42)\n",
    "lm_2_model = LinearRegression(normalize=True)\n",
    "\n",
    "# If our model works, it should just fit our model to the data. Otherwise, it will let us know.\n",
    "try:\n",
    "    lm_2_model.fit(X_2_train, y_2_train)\n",
    "except:\n",
    "    print(\"Oh no! It doesn't work!!!\")"
   ]
  },
  {
   "cell_type": "code",
   "execution_count": 63,
   "metadata": {},
   "outputs": [
    {
     "data": {
      "text/plain": [
       "(645,)"
      ]
     },
     "execution_count": 63,
     "metadata": {},
     "output_type": "execute_result"
    }
   ],
   "source": [
    "y_2_test.shape"
   ]
  },
  {
   "cell_type": "code",
   "execution_count": 64,
   "metadata": {},
   "outputs": [
    {
     "name": "stdout",
     "output_type": "stream",
     "text": [
      "Nice job! That's right! Python isn't exactly magic, but sometimes it feels like it is!\n"
     ]
    }
   ],
   "source": [
    "a = 'Python just likes to break sometimes for no reason at all.' \n",
    "b = 'It worked, because Python is magic.'\n",
    "c = 'It broke because we still have missing values in X'\n",
    "\n",
    "question5_solution = b\n",
    "\n",
    "#test\n",
    "t.question5_check(question5_solution)"
   ]
  },
  {
   "cell_type": "markdown",
   "metadata": {},
   "source": [
    "#### Question 6\n",
    "\n",
    "**6.** 现在，用 **lm_2_model** 模型来预测 **y_2_test**，并计算 R 平方值，以评估模型的预测效果。"
   ]
  },
  {
   "attachments": {
    "image.png": {
     "image/png": "[encoded data removed]"
    }
   },
   "cell_type": "markdown",
   "metadata": {},
   "source": [
    "r2_score()用于计算R平方值，即R2 决定系数（拟合优度），能够评估模型的预测效果。反映因变量的全部变异能通过回归关系被自变量解释的比例。\n",
    "\n",
    "模型越好：r2→1\n",
    "\n",
    "模型越差：r2→0\n",
    "\n",
    "![image.png](attachment:image.png)"
   ]
  },
  {
   "cell_type": "code",
   "execution_count": 65,
   "metadata": {},
   "outputs": [
    {
     "data": {
      "text/plain": [
       "0.019170661803761924"
      ]
     },
     "execution_count": 65,
     "metadata": {},
     "output_type": "execute_result"
    }
   ],
   "source": [
    "y_test_preds = lm_2_model.predict(X_2_test)# Predictions here using X_2 and lm_2_model\n",
    "r2_test = r2_score(y_2_test, y_test_preds)# Rsquared here for comparing test and preds from lm_2_model\n",
    "# list(y_test)\n",
    "# list(y_test_preds)\n",
    "# Print r2 to see result\n",
    "r2_test"
   ]
  },
  {
   "cell_type": "code",
   "execution_count": 66,
   "metadata": {},
   "outputs": [
    {
     "name": "stdout",
     "output_type": "stream",
     "text": [
      "Nice job! That's right! Your rsquared matches the solution.\n"
     ]
    }
   ],
   "source": [
    "t.r2_test_check(r2_test)"
   ]
  },
  {
   "cell_type": "markdown",
   "metadata": {},
   "source": [
    "#### Question 7\n",
    "\n",
    "**7.** 用你之前学到的知识，将下面的字母与相应的陈述匹配。"
   ]
  },
  {
   "cell_type": "code",
   "execution_count": 74,
   "metadata": {},
   "outputs": [
    {
     "name": "stdout",
     "output_type": "stream",
     "text": [
      "Nice job! That looks right to me!  We would really like to predict for anyone who provides a salary, but our model right now definitely has some limitations.\n"
     ]
    }
   ],
   "source": [
    "a = 5009\n",
    "b = 'Other'\n",
    "c = 645\n",
    "d = 'We still want to predict their salary'\n",
    "e = 'We do not care to predict their salary'\n",
    "f = False\n",
    "g = True\n",
    "\n",
    "question7_solution = {'The number of reported salaries in the original dataset': a,\n",
    "                       'The number of test salaries predicted using our model': c,\n",
    "                       'If an individual does not rate stackoverflow, but has a salary': d,\n",
    "                       'If an individual does not have a a job satisfaction, but has a salary': d,\n",
    "                       'Our model predicts salaries for the two individuals described above.': f}\n",
    "                      \n",
    "                      \n",
    "#Check your answers against the solution - you should be told you were right if your answers are correct!                     \n",
    "t.question7_check(question7_solution)"
   ]
  },
  {
   "cell_type": "code",
   "execution_count": null,
   "metadata": {},
   "outputs": [],
   "source": [
    "#Cell for work"
   ]
  },
  {
   "cell_type": "code",
   "execution_count": null,
   "metadata": {},
   "outputs": [],
   "source": [
    "#Cell for work"
   ]
  }
 ],
 "metadata": {
  "kernelspec": {
   "display_name": "Python 3",
   "language": "python",
   "name": "python3"
  },
  "language_info": {
   "codemirror_mode": {
    "name": "ipython",
    "version": 3
   },
   "file_extension": ".py",
   "mimetype": "text/x-python",
   "name": "python",
   "nbconvert_exporter": "python",
   "pygments_lexer": "ipython3",
   "version": "3.7.6"
  }
 },
 "nbformat": 4,
 "nbformat_minor": 2
}
