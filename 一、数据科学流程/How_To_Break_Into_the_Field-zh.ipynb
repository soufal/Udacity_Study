{
 "cells": [
  {
   "cell_type": "markdown",
   "metadata": {},
   "source": [
    "### 关于新手入门的建议\n",
    "\n",
    "现在你对数据有了更深入的了解，并且知道我是如何探索“如何入门技术领域”这个问题的。现在轮到你自己动手来回答下面的问题了。"
   ]
  },
  {
   "cell_type": "code",
   "execution_count": 1,
   "metadata": {},
   "outputs": [
    {
     "data": {
      "text/html": [
       "<div>\n",
       "<style scoped>\n",
       "    .dataframe tbody tr th:only-of-type {\n",
       "        vertical-align: middle;\n",
       "    }\n",
       "\n",
       "    .dataframe tbody tr th {\n",
       "        vertical-align: top;\n",
       "    }\n",
       "\n",
       "    .dataframe thead th {\n",
       "        text-align: right;\n",
       "    }\n",
       "</style>\n",
       "<table border=\"1\" class=\"dataframe\">\n",
       "  <thead>\n",
       "    <tr style=\"text-align: right;\">\n",
       "      <th></th>\n",
       "      <th>Respondent</th>\n",
       "      <th>Professional</th>\n",
       "      <th>ProgramHobby</th>\n",
       "      <th>Country</th>\n",
       "      <th>University</th>\n",
       "      <th>EmploymentStatus</th>\n",
       "      <th>FormalEducation</th>\n",
       "      <th>MajorUndergrad</th>\n",
       "      <th>HomeRemote</th>\n",
       "      <th>CompanySize</th>\n",
       "      <th>...</th>\n",
       "      <th>StackOverflowMakeMoney</th>\n",
       "      <th>Gender</th>\n",
       "      <th>HighestEducationParents</th>\n",
       "      <th>Race</th>\n",
       "      <th>SurveyLong</th>\n",
       "      <th>QuestionsInteresting</th>\n",
       "      <th>QuestionsConfusing</th>\n",
       "      <th>InterestedAnswers</th>\n",
       "      <th>Salary</th>\n",
       "      <th>ExpectedSalary</th>\n",
       "    </tr>\n",
       "  </thead>\n",
       "  <tbody>\n",
       "    <tr>\n",
       "      <th>0</th>\n",
       "      <td>1</td>\n",
       "      <td>Student</td>\n",
       "      <td>Yes, both</td>\n",
       "      <td>United States</td>\n",
       "      <td>No</td>\n",
       "      <td>Not employed, and not looking for work</td>\n",
       "      <td>Secondary school</td>\n",
       "      <td>NaN</td>\n",
       "      <td>NaN</td>\n",
       "      <td>NaN</td>\n",
       "      <td>...</td>\n",
       "      <td>Strongly disagree</td>\n",
       "      <td>Male</td>\n",
       "      <td>High school</td>\n",
       "      <td>White or of European descent</td>\n",
       "      <td>Strongly disagree</td>\n",
       "      <td>Strongly agree</td>\n",
       "      <td>Disagree</td>\n",
       "      <td>Strongly agree</td>\n",
       "      <td>NaN</td>\n",
       "      <td>NaN</td>\n",
       "    </tr>\n",
       "    <tr>\n",
       "      <th>1</th>\n",
       "      <td>2</td>\n",
       "      <td>Student</td>\n",
       "      <td>Yes, both</td>\n",
       "      <td>United Kingdom</td>\n",
       "      <td>Yes, full-time</td>\n",
       "      <td>Employed part-time</td>\n",
       "      <td>Some college/university study without earning ...</td>\n",
       "      <td>Computer science or software engineering</td>\n",
       "      <td>More than half, but not all, the time</td>\n",
       "      <td>20 to 99 employees</td>\n",
       "      <td>...</td>\n",
       "      <td>Strongly disagree</td>\n",
       "      <td>Male</td>\n",
       "      <td>A master's degree</td>\n",
       "      <td>White or of European descent</td>\n",
       "      <td>Somewhat agree</td>\n",
       "      <td>Somewhat agree</td>\n",
       "      <td>Disagree</td>\n",
       "      <td>Strongly agree</td>\n",
       "      <td>NaN</td>\n",
       "      <td>37500.0</td>\n",
       "    </tr>\n",
       "    <tr>\n",
       "      <th>2</th>\n",
       "      <td>3</td>\n",
       "      <td>Professional developer</td>\n",
       "      <td>Yes, both</td>\n",
       "      <td>United Kingdom</td>\n",
       "      <td>No</td>\n",
       "      <td>Employed full-time</td>\n",
       "      <td>Bachelor's degree</td>\n",
       "      <td>Computer science or software engineering</td>\n",
       "      <td>Less than half the time, but at least one day ...</td>\n",
       "      <td>10,000 or more employees</td>\n",
       "      <td>...</td>\n",
       "      <td>Disagree</td>\n",
       "      <td>Male</td>\n",
       "      <td>A professional degree</td>\n",
       "      <td>White or of European descent</td>\n",
       "      <td>Somewhat agree</td>\n",
       "      <td>Agree</td>\n",
       "      <td>Disagree</td>\n",
       "      <td>Agree</td>\n",
       "      <td>113750.0</td>\n",
       "      <td>NaN</td>\n",
       "    </tr>\n",
       "    <tr>\n",
       "      <th>3</th>\n",
       "      <td>4</td>\n",
       "      <td>Professional non-developer who sometimes write...</td>\n",
       "      <td>Yes, both</td>\n",
       "      <td>United States</td>\n",
       "      <td>No</td>\n",
       "      <td>Employed full-time</td>\n",
       "      <td>Doctoral degree</td>\n",
       "      <td>A non-computer-focused engineering discipline</td>\n",
       "      <td>Less than half the time, but at least one day ...</td>\n",
       "      <td>10,000 or more employees</td>\n",
       "      <td>...</td>\n",
       "      <td>Disagree</td>\n",
       "      <td>Male</td>\n",
       "      <td>A doctoral degree</td>\n",
       "      <td>White or of European descent</td>\n",
       "      <td>Agree</td>\n",
       "      <td>Agree</td>\n",
       "      <td>Somewhat agree</td>\n",
       "      <td>Strongly agree</td>\n",
       "      <td>NaN</td>\n",
       "      <td>NaN</td>\n",
       "    </tr>\n",
       "    <tr>\n",
       "      <th>4</th>\n",
       "      <td>5</td>\n",
       "      <td>Professional developer</td>\n",
       "      <td>Yes, I program as a hobby</td>\n",
       "      <td>Switzerland</td>\n",
       "      <td>No</td>\n",
       "      <td>Employed full-time</td>\n",
       "      <td>Master's degree</td>\n",
       "      <td>Computer science or software engineering</td>\n",
       "      <td>Never</td>\n",
       "      <td>10 to 19 employees</td>\n",
       "      <td>...</td>\n",
       "      <td>NaN</td>\n",
       "      <td>NaN</td>\n",
       "      <td>NaN</td>\n",
       "      <td>NaN</td>\n",
       "      <td>NaN</td>\n",
       "      <td>NaN</td>\n",
       "      <td>NaN</td>\n",
       "      <td>NaN</td>\n",
       "      <td>NaN</td>\n",
       "      <td>NaN</td>\n",
       "    </tr>\n",
       "  </tbody>\n",
       "</table>\n",
       "<p>5 rows × 154 columns</p>\n",
       "</div>"
      ],
      "text/plain": [
       "   Respondent                                       Professional  \\\n",
       "0           1                                            Student   \n",
       "1           2                                            Student   \n",
       "2           3                             Professional developer   \n",
       "3           4  Professional non-developer who sometimes write...   \n",
       "4           5                             Professional developer   \n",
       "\n",
       "                ProgramHobby         Country      University  \\\n",
       "0                  Yes, both   United States              No   \n",
       "1                  Yes, both  United Kingdom  Yes, full-time   \n",
       "2                  Yes, both  United Kingdom              No   \n",
       "3                  Yes, both   United States              No   \n",
       "4  Yes, I program as a hobby     Switzerland              No   \n",
       "\n",
       "                         EmploymentStatus  \\\n",
       "0  Not employed, and not looking for work   \n",
       "1                      Employed part-time   \n",
       "2                      Employed full-time   \n",
       "3                      Employed full-time   \n",
       "4                      Employed full-time   \n",
       "\n",
       "                                     FormalEducation  \\\n",
       "0                                   Secondary school   \n",
       "1  Some college/university study without earning ...   \n",
       "2                                  Bachelor's degree   \n",
       "3                                    Doctoral degree   \n",
       "4                                    Master's degree   \n",
       "\n",
       "                                  MajorUndergrad  \\\n",
       "0                                            NaN   \n",
       "1       Computer science or software engineering   \n",
       "2       Computer science or software engineering   \n",
       "3  A non-computer-focused engineering discipline   \n",
       "4       Computer science or software engineering   \n",
       "\n",
       "                                          HomeRemote  \\\n",
       "0                                                NaN   \n",
       "1              More than half, but not all, the time   \n",
       "2  Less than half the time, but at least one day ...   \n",
       "3  Less than half the time, but at least one day ...   \n",
       "4                                              Never   \n",
       "\n",
       "                CompanySize       ...       StackOverflowMakeMoney Gender  \\\n",
       "0                       NaN       ...            Strongly disagree   Male   \n",
       "1        20 to 99 employees       ...            Strongly disagree   Male   \n",
       "2  10,000 or more employees       ...                     Disagree   Male   \n",
       "3  10,000 or more employees       ...                     Disagree   Male   \n",
       "4        10 to 19 employees       ...                          NaN    NaN   \n",
       "\n",
       "  HighestEducationParents                          Race         SurveyLong  \\\n",
       "0             High school  White or of European descent  Strongly disagree   \n",
       "1       A master's degree  White or of European descent     Somewhat agree   \n",
       "2   A professional degree  White or of European descent     Somewhat agree   \n",
       "3       A doctoral degree  White or of European descent              Agree   \n",
       "4                     NaN                           NaN                NaN   \n",
       "\n",
       "  QuestionsInteresting QuestionsConfusing InterestedAnswers    Salary  \\\n",
       "0       Strongly agree           Disagree    Strongly agree       NaN   \n",
       "1       Somewhat agree           Disagree    Strongly agree       NaN   \n",
       "2                Agree           Disagree             Agree  113750.0   \n",
       "3                Agree     Somewhat agree    Strongly agree       NaN   \n",
       "4                  NaN                NaN               NaN       NaN   \n",
       "\n",
       "   ExpectedSalary  \n",
       "0             NaN  \n",
       "1         37500.0  \n",
       "2             NaN  \n",
       "3             NaN  \n",
       "4             NaN  \n",
       "\n",
       "[5 rows x 154 columns]"
      ]
     },
     "execution_count": 1,
     "metadata": {},
     "output_type": "execute_result"
    }
   ],
   "source": [
    "import numpy as np\n",
    "import pandas as pd\n",
    "import matplotlib.pyplot as plt\n",
    "import seaborn as sns\n",
    "import HowToBreakIntoTheField as t\n",
    "%matplotlib inline\n",
    "\n",
    "df = pd.read_csv('./survey_results_public.csv')\n",
    "schema = pd.read_csv('./survey_results_schema.csv')\n",
    "df.head()"
   ]
  },
  {
   "cell_type": "markdown",
   "metadata": {},
   "source": [
    "#### Question 1\n",
    "\n",
    "**1.** 为了理解如何入门技术领域这个问题，需要先理解 **CousinEducation** 特征列。使用 **schema** 数据集来回答这一问题，完成这个名为 **get_description** 的函数，该函数的参数为 **schema** 数据集和 **column_name** 列名，返回的是该列的具体描述。 "
   ]
  },
  {
   "cell_type": "code",
   "execution_count": 2,
   "metadata": {},
   "outputs": [
    {
     "data": {
      "text/html": [
       "<div>\n",
       "<style scoped>\n",
       "    .dataframe tbody tr th:only-of-type {\n",
       "        vertical-align: middle;\n",
       "    }\n",
       "\n",
       "    .dataframe tbody tr th {\n",
       "        vertical-align: top;\n",
       "    }\n",
       "\n",
       "    .dataframe thead th {\n",
       "        text-align: right;\n",
       "    }\n",
       "</style>\n",
       "<table border=\"1\" class=\"dataframe\">\n",
       "  <thead>\n",
       "    <tr style=\"text-align: right;\">\n",
       "      <th></th>\n",
       "      <th>Column</th>\n",
       "      <th>Question</th>\n",
       "    </tr>\n",
       "  </thead>\n",
       "  <tbody>\n",
       "    <tr>\n",
       "      <th>0</th>\n",
       "      <td>Respondent</td>\n",
       "      <td>Respondent ID number</td>\n",
       "    </tr>\n",
       "    <tr>\n",
       "      <th>1</th>\n",
       "      <td>Professional</td>\n",
       "      <td>Which of the following best describes you?</td>\n",
       "    </tr>\n",
       "    <tr>\n",
       "      <th>2</th>\n",
       "      <td>ProgramHobby</td>\n",
       "      <td>Do you program as a hobby or contribute to ope...</td>\n",
       "    </tr>\n",
       "    <tr>\n",
       "      <th>3</th>\n",
       "      <td>Country</td>\n",
       "      <td>In which country do you currently live?</td>\n",
       "    </tr>\n",
       "    <tr>\n",
       "      <th>4</th>\n",
       "      <td>University</td>\n",
       "      <td>Are you currently enrolled in a formal, degree...</td>\n",
       "    </tr>\n",
       "  </tbody>\n",
       "</table>\n",
       "</div>"
      ],
      "text/plain": [
       "         Column                                           Question\n",
       "0    Respondent                               Respondent ID number\n",
       "1  Professional         Which of the following best describes you?\n",
       "2  ProgramHobby  Do you program as a hobby or contribute to ope...\n",
       "3       Country            In which country do you currently live?\n",
       "4    University  Are you currently enrolled in a formal, degree..."
      ]
     },
     "execution_count": 2,
     "metadata": {},
     "output_type": "execute_result"
    }
   ],
   "source": [
    "schema.head()"
   ]
  },
  {
   "cell_type": "code",
   "execution_count": 3,
   "metadata": {},
   "outputs": [
    {
     "data": {
      "text/plain": [
       "'Respondent ID number'"
      ]
     },
     "execution_count": 3,
     "metadata": {},
     "output_type": "execute_result"
    }
   ],
   "source": [
    "def get_description(column_name, schema=schema):\n",
    "    '''\n",
    "    INPUT - schema - pandas dataframe with the schema of the developers survey\n",
    "            column_name - string - the name of the column you would like to know about\n",
    "    OUTPUT - \n",
    "            desc - string - the description of the column\n",
    "    '''\n",
    "    #下述两种方法得到的结果为何不同？？？？？？\n",
    "    desc = schema[schema.Column == column_name]['Question'].to_string(index=False)\n",
    "    desc1 = list(schema[schema.Column == column_name]['Question'])[0]\n",
    "\n",
    "    return desc1\n",
    "#test your code\n",
    "#Check your function against solution - you shouldn't need to change any of the below code\n",
    "get_description(df.columns[0]) # This should return a string of the first column description"
   ]
  },
  {
   "cell_type": "code",
   "execution_count": 4,
   "metadata": {},
   "outputs": [],
   "source": [
    "descrips = set(get_description(col) for col in df.columns)\n",
    "# descrips"
   ]
  },
  {
   "cell_type": "code",
   "execution_count": 5,
   "metadata": {},
   "outputs": [
    {
     "name": "stdout",
     "output_type": "stream",
     "text": [
      "Nice job it looks like your function works correctly!\n"
     ]
    }
   ],
   "source": [
    "#Check your function against solution - you shouldn't need to change any of the below code\n",
    "descrips = set(get_description(col) for col in df.columns)\n",
    "t.check_description(descrips)"
   ]
  },
  {
   "cell_type": "code",
   "execution_count": null,
   "metadata": {},
   "outputs": [],
   "source": []
  },
  {
   "cell_type": "markdown",
   "metadata": {},
   "source": [
    "我们想要探索的问题是如何入门技术领域，所以要使用 **get_description** 函数查看 **CousinEducation** 特征列的具体描述。"
   ]
  },
  {
   "cell_type": "code",
   "execution_count": 6,
   "metadata": {},
   "outputs": [
    {
     "data": {
      "text/plain": [
       "\"Let's pretend you have a distant cousin. They are 24 years old, have a college degree in a field not related to computer programming, and have been working a non-coding job for the last two years. They want your advice on how to switch to a career as a software developer. Which of the following options would you most strongly recommend to your cousin?\\nLet's pretend you have a distant cousin named Robert. He is 24 years old, has a college degree in a field not related to computer programming, and has been working a non-coding job for the last two years. He wants your advice on how to switch to a career as a software developer. Which of the following options would you most strongly recommend to Robert?\\nLet's pretend you have a distant cousin named Alice. She is 24 years old, has a college degree in a field not related to computer programming, and has been working a non-coding job for the last two years. She wants your advice on how to switch to a career as a software developer. Which of the following options would you most strongly recommend to Alice?\""
      ]
     },
     "execution_count": 6,
     "metadata": {},
     "output_type": "execute_result"
    }
   ],
   "source": [
    "get_description('CousinEducation')"
   ]
  },
  {
   "cell_type": "markdown",
   "metadata": {},
   "source": [
    "#### Question 2\n",
    "\n",
    "**2.** 给出 **CousinEducation** 列中每种类别的数量，返回的数据类型是 Pandas Series。将返回的 Series 存储在 **cous_ed_vals** 变量中。如果你的回答是正确的，那应该能看到一个类别分布的柱状图。如果结果看上去不太好，从中得不到任何有用的信息，那就要仔细看一下注释，别忘了清理数据！"
   ]
  },
  {
   "cell_type": "code",
   "execution_count": 23,
   "metadata": {},
   "outputs": [
    {
     "data": {
      "text/plain": [
       "0    192\n",
       "1    167\n",
       "2    158\n",
       "3    140\n",
       "4    132\n",
       "Name: cous_ed_vals, dtype: int64"
      ]
     },
     "execution_count": 23,
     "metadata": {},
     "output_type": "execute_result"
    }
   ],
   "source": [
    "CousinEducation_count = df['CousinEducation'].value_counts().reset_index()#Provide a pandas series of the counts for each CousinEducation status\n",
    "CousinEducation_count.rename(columns={'index': 'method', 'CousinEducation': 'cous_ed_vals'}, inplace = True)\n",
    "CousinEducation_count['cous_ed_vals'].head()"
   ]
  },
  {
   "cell_type": "code",
   "execution_count": 24,
   "metadata": {},
   "outputs": [
    {
     "data": {
      "text/plain": [
       "0      192\n",
       "1      167\n",
       "2      158\n",
       "3      140\n",
       "4      132\n",
       "5      129\n",
       "6      121\n",
       "7      115\n",
       "8       95\n",
       "9       91\n",
       "10      89\n",
       "11      86\n",
       "12      82\n",
       "13      79\n",
       "14      78\n",
       "15      74\n",
       "16      68\n",
       "17      66\n",
       "18      64\n",
       "19      63\n",
       "20      62\n",
       "21      60\n",
       "22      59\n",
       "23      55\n",
       "24      51\n",
       "25      51\n",
       "26      49\n",
       "27      49\n",
       "28      47\n",
       "29      46\n",
       "      ... \n",
       "571      1\n",
       "572      1\n",
       "573      1\n",
       "574      1\n",
       "575      1\n",
       "576      1\n",
       "577      1\n",
       "578      1\n",
       "579      1\n",
       "580      1\n",
       "581      1\n",
       "582      1\n",
       "583      1\n",
       "584      1\n",
       "585      1\n",
       "586      1\n",
       "587      1\n",
       "588      1\n",
       "589      1\n",
       "590      1\n",
       "591      1\n",
       "592      1\n",
       "593      1\n",
       "594      1\n",
       "595      1\n",
       "596      1\n",
       "597      1\n",
       "598      1\n",
       "599      1\n",
       "600      1\n",
       "Name: cous_ed_vals, Length: 601, dtype: int64"
      ]
     },
     "execution_count": 24,
     "metadata": {},
     "output_type": "execute_result"
    }
   ],
   "source": [
    "cous_ed_vals = CousinEducation_count['cous_ed_vals']#Provide a pandas series of the counts for each CousinEducation status\n",
    "\n",
    "cous_ed_vals # assure this looks right"
   ]
  },
  {
   "cell_type": "code",
   "execution_count": 25,
   "metadata": {},
   "outputs": [
    {
     "data": {
      "image/png": "[encoded data removed]",
      "text/plain": [
       "<matplotlib.figure.Figure at 0x7f6eabb8dfd0>"
      ]
     },
     "metadata": {
      "needs_background": "light"
     },
     "output_type": "display_data"
    }
   ],
   "source": [
    "# The below should be a bar chart of the proportion of individuals in your ed_vals\n",
    "# if it is set up correctly.\n",
    "\n",
    "(cous_ed_vals/df.shape[0]).plot(kind=\"bar\");\n",
    "plt.title(\"Formal Education\");"
   ]
  },
  {
   "cell_type": "markdown",
   "metadata": {},
   "source": [
    "一定要对数据进行清理，上面就是没有对数据进行清理的结果。下面我使用的代码跟之前视频里的代码一样，前提是数据已经被清理过了。"
   ]
  },
  {
   "cell_type": "code",
   "execution_count": 26,
   "metadata": {},
   "outputs": [
    {
     "data": {
      "image/png": "[encoded data removed]",
      "text/plain": [
       "<matplotlib.figure.Figure at 0x7f6eab8fc400>"
      ]
     },
     "metadata": {
      "needs_background": "light"
     },
     "output_type": "display_data"
    }
   ],
   "source": [
    "possible_vals = [\"Take online courses\", \"Buy books and work through the exercises\", \n",
    "                 \"None of these\", \"Part-time/evening courses\", \"Return to college\",\n",
    "                 \"Contribute to open source\", \"Conferences/meet-ups\", \"Bootcamp\",\n",
    "                 \"Get a job as a QA tester\", \"Participate in online coding competitions\",\n",
    "                 \"Master's degree\", \"Participate in hackathons\", \"Other\"]\n",
    "\n",
    "def clean_and_plot(df, title='Method of Educating Suggested', plot=True):\n",
    "    '''\n",
    "    INPUT \n",
    "        df - a dataframe holding the CousinEducation column\n",
    "        title - string the title of your plot\n",
    "        axis - axis object\n",
    "        plot - bool providing whether or not you want a plot back\n",
    "        \n",
    "    OUTPUT\n",
    "        study_df - a dataframe with the count of how many individuals\n",
    "        Displays a plot of pretty things related to the CousinEducation column.\n",
    "    '''\n",
    "    study = df['CousinEducation'].value_counts().reset_index()\n",
    "    study.rename(columns={'index': 'method', 'CousinEducation': 'count'}, inplace=True)\n",
    "    study_df = t.total_count(study, 'method', 'count', possible_vals)\n",
    "\n",
    "    study_df.set_index('method', inplace=True)\n",
    "    if plot:\n",
    "        (study_df/study_df.sum()).plot(kind='bar', legend=None);\n",
    "        plt.title(title);\n",
    "        plt.show()\n",
    "    props_study_df = study_df/study_df.sum()\n",
    "    return props_study_df\n",
    "    \n",
    "props_df = clean_and_plot(df)"
   ]
  },
  {
   "cell_type": "markdown",
   "metadata": {},
   "source": [
    "#### Question 3\n",
    "\n",
    "**3.** 有学位的人会不会更会推荐他人去获取学位呢？完成下面的函数，该函数的参数是 **df** 中 **FormalEducation** 列的每个元素项（也就是对 **FormalEducation** 列 apply 该函数）。 "
   ]
  },
  {
   "cell_type": "code",
   "execution_count": 28,
   "metadata": {},
   "outputs": [
    {
     "data": {
      "text/plain": [
       "0    0\n",
       "1    0\n",
       "2    0\n",
       "3    0\n",
       "4    1\n",
       "Name: FormalEducation, dtype: int64"
      ]
     },
     "execution_count": 28,
     "metadata": {},
     "output_type": "execute_result"
    }
   ],
   "source": [
    "def higher_ed(formal_ed_str):\n",
    "    '''\n",
    "    INPUT\n",
    "        formal_ed_str - a string of one of the values from the Formal Education column\n",
    "    \n",
    "    OUTPUT\n",
    "        return 1 if the string is  in (\"Master's degree\", \"Doctoral\", \"Professional degree\")\n",
    "        return 0 otherwise\n",
    "    \n",
    "    '''\n",
    "    if formal_ed_str in (\"Master's degree\", \"Doctoral\", \"Professional degree\"):\n",
    "        return 1\n",
    "    else:\n",
    "        return 0\n",
    "\n",
    "df[\"FormalEducation\"].apply(higher_ed)[:5] #Test your function to assure it provides 1 and 0 values for the df"
   ]
  },
  {
   "cell_type": "code",
   "execution_count": 29,
   "metadata": {},
   "outputs": [
    {
     "name": "stdout",
     "output_type": "stream",
     "text": [
      "Nice job!  That's right.  The percentage of individuals in these three groups is 0.2302376714480159.\n"
     ]
    }
   ],
   "source": [
    "# Check your code here\n",
    "df['HigherEd'] = df[\"FormalEducation\"].apply(higher_ed)\n",
    "higher_ed_perc = df['HigherEd'].mean()\n",
    "t.higher_ed_test(higher_ed_perc)"
   ]
  },
  {
   "cell_type": "markdown",
   "metadata": {},
   "source": [
    "#### Question 4\n",
    "\n",
    "**4.** 现在来看一下有学位的人跟没学位的人相比，会不会更倾向于推荐新手攻读学位。将数据中 **HigherEd** 等于 1 的部分存储在 **ed_1** 变量中；将数据中 **HigherEd** 等于 0 的部分存储在 **ed_0** 变量中。\n",
    "\n",
    "需要注意的是，你已经在上面创建 **HigherEd** 列了，现在需要做的只是在这一列上进行数据筛选。"
   ]
  },
  {
   "cell_type": "code",
   "execution_count": 30,
   "metadata": {},
   "outputs": [
    {
     "name": "stdout",
     "output_type": "stream",
     "text": [
      "4     1\n",
      "6     1\n",
      "7     1\n",
      "9     1\n",
      "14    1\n",
      "Name: HigherEd, dtype: int64\n",
      "0    0\n",
      "1    0\n",
      "2    0\n",
      "3    0\n",
      "5    0\n",
      "Name: HigherEd, dtype: int64\n"
     ]
    }
   ],
   "source": [
    "ed_1 = df[df.HigherEd == 1]# Subset df to only those with HigherEd of 1\n",
    "ed_0 = df[df.HigherEd == 0]# Subset df to only those with HigherEd of 0\n",
    "\n",
    "\n",
    "print(ed_1['HigherEd'][:5]) #Assure it looks like what you would expect\n",
    "print(ed_0['HigherEd'][:5]) #Assure it looks like what you would expect"
   ]
  },
  {
   "cell_type": "code",
   "execution_count": 31,
   "metadata": {},
   "outputs": [
    {
     "data": {
      "text/html": [
       "<style  type=\"text/css\" >\n",
       "    #T_09fd0ce4_38fc_11ea_88ca_0242ac120002row0_col2 {\n",
       "            width:  10em;\n",
       "             height:  80%;\n",
       "            background:  linear-gradient(90deg, transparent 0%, transparent 7.4%, #d65f5f 7.4%, #d65f5f 21.8%, transparent 21.8%);\n",
       "        }    #T_09fd0ce4_38fc_11ea_88ca_0242ac120002row1_col2 {\n",
       "            width:  10em;\n",
       "             height:  80%;\n",
       "            background:  linear-gradient(90deg, transparent 0%, transparent 21.8%, #5fba7d 21.8%, #5fba7d 32.0%, transparent 32.0%);\n",
       "        }    #T_09fd0ce4_38fc_11ea_88ca_0242ac120002row2_col2 {\n",
       "            width:  10em;\n",
       "             height:  80%;\n",
       "            background:  linear-gradient(90deg, transparent 0%, transparent 9.5%, #d65f5f 9.5%, #d65f5f 21.8%, transparent 21.8%);\n",
       "        }    #T_09fd0ce4_38fc_11ea_88ca_0242ac120002row3_col2 {\n",
       "            width:  10em;\n",
       "             height:  80%;\n",
       "            background:  linear-gradient(90deg, transparent 0%, transparent 17.2%, #d65f5f 17.2%, #d65f5f 21.8%, transparent 21.8%);\n",
       "        }    #T_09fd0ce4_38fc_11ea_88ca_0242ac120002row4_col2 {\n",
       "            width:  10em;\n",
       "             height:  80%;\n",
       "            background:  linear-gradient(90deg, transparent 0%, transparent 18.9%, #d65f5f 18.9%, #d65f5f 21.8%, transparent 21.8%);\n",
       "        }    #T_09fd0ce4_38fc_11ea_88ca_0242ac120002row5_col2 {\n",
       "            width:  10em;\n",
       "             height:  80%;\n",
       "            background:  linear-gradient(90deg, transparent 0%, transparent 21.8%, #5fba7d 21.8%, #5fba7d 22.0%, transparent 22.0%);\n",
       "        }    #T_09fd0ce4_38fc_11ea_88ca_0242ac120002row6_col2 {\n",
       "            width:  10em;\n",
       "             height:  80%;\n",
       "            background:  linear-gradient(90deg, transparent 0%, transparent 0.2%, #d65f5f 0.2%, #d65f5f 21.8%, transparent 21.8%);\n",
       "        }    #T_09fd0ce4_38fc_11ea_88ca_0242ac120002row7_col2 {\n",
       "            width:  10em;\n",
       "             height:  80%;\n",
       "            background:  linear-gradient(90deg, transparent 0%, transparent 21.8%, #5fba7d 21.8%, #5fba7d 100.0%, transparent 100.0%);\n",
       "        }    #T_09fd0ce4_38fc_11ea_88ca_0242ac120002row8_col2 {\n",
       "            width:  10em;\n",
       "             height:  80%;\n",
       "            background:  linear-gradient(90deg, transparent 0%, transparent 21.8%, #5fba7d 21.8%, #5fba7d 30.2%, transparent 30.2%);\n",
       "        }    #T_09fd0ce4_38fc_11ea_88ca_0242ac120002row9_col2 {\n",
       "            width:  10em;\n",
       "             height:  80%;\n",
       "            background:  linear-gradient(90deg, transparent 0%, transparent 0.0%, #d65f5f 0.0%, #d65f5f 21.8%, transparent 21.8%);\n",
       "        }    #T_09fd0ce4_38fc_11ea_88ca_0242ac120002row10_col2 {\n",
       "            width:  10em;\n",
       "             height:  80%;\n",
       "            background:  linear-gradient(90deg, transparent 0%, transparent 10.4%, #d65f5f 10.4%, #d65f5f 21.8%, transparent 21.8%);\n",
       "        }    #T_09fd0ce4_38fc_11ea_88ca_0242ac120002row11_col2 {\n",
       "            width:  10em;\n",
       "             height:  80%;\n",
       "            background:  linear-gradient(90deg, transparent 0%, transparent 10.3%, #d65f5f 10.3%, #d65f5f 21.8%, transparent 21.8%);\n",
       "        }    #T_09fd0ce4_38fc_11ea_88ca_0242ac120002row12_col2 {\n",
       "            width:  10em;\n",
       "             height:  80%;\n",
       "            background:  linear-gradient(90deg, transparent 0%, transparent 21.8%, #5fba7d 21.8%, #5fba7d 25.6%, transparent 25.6%);\n",
       "        }</style>  \n",
       "<table id=\"T_09fd0ce4_38fc_11ea_88ca_0242ac120002\" > \n",
       "<thead>    <tr> \n",
       "        <th class=\"blank level0\" ></th> \n",
       "        <th class=\"col_heading level0 col0\" >ed_1_perc</th> \n",
       "        <th class=\"col_heading level0 col1\" >ed_0_perc</th> \n",
       "        <th class=\"col_heading level0 col2\" >Diff_HigherEd_Vals</th> \n",
       "    </tr>    <tr> \n",
       "        <th class=\"index_name level0\" >method</th> \n",
       "        <th class=\"blank\" ></th> \n",
       "        <th class=\"blank\" ></th> \n",
       "        <th class=\"blank\" ></th> \n",
       "    </tr></thead> \n",
       "<tbody>    <tr> \n",
       "        <th id=\"T_09fd0ce4_38fc_11ea_88ca_0242ac120002level0_row0\" class=\"row_heading level0 row0\" >Take online courses</th> \n",
       "        <td id=\"T_09fd0ce4_38fc_11ea_88ca_0242ac120002row0_col0\" class=\"data row0 col0\" >0.205361</td> \n",
       "        <td id=\"T_09fd0ce4_38fc_11ea_88ca_0242ac120002row0_col1\" class=\"data row0 col1\" >0.21009</td> \n",
       "        <td id=\"T_09fd0ce4_38fc_11ea_88ca_0242ac120002row0_col2\" class=\"data row0 col2\" >-0.00472961</td> \n",
       "    </tr>    <tr> \n",
       "        <th id=\"T_09fd0ce4_38fc_11ea_88ca_0242ac120002level0_row1\" class=\"row_heading level0 row1\" >Buy books and work through the exercises</th> \n",
       "        <td id=\"T_09fd0ce4_38fc_11ea_88ca_0242ac120002row1_col0\" class=\"data row1 col0\" >0.163579</td> \n",
       "        <td id=\"T_09fd0ce4_38fc_11ea_88ca_0242ac120002row1_col1\" class=\"data row1 col1\" >0.160257</td> \n",
       "        <td id=\"T_09fd0ce4_38fc_11ea_88ca_0242ac120002row1_col2\" class=\"data row1 col2\" >0.00332183</td> \n",
       "    </tr>    <tr> \n",
       "        <th id=\"T_09fd0ce4_38fc_11ea_88ca_0242ac120002level0_row2\" class=\"row_heading level0 row2\" >Contribute to open source</th> \n",
       "        <td id=\"T_09fd0ce4_38fc_11ea_88ca_0242ac120002row2_col0\" class=\"data row2 col0\" >0.106031</td> \n",
       "        <td id=\"T_09fd0ce4_38fc_11ea_88ca_0242ac120002row2_col1\" class=\"data row2 col1\" >0.110053</td> \n",
       "        <td id=\"T_09fd0ce4_38fc_11ea_88ca_0242ac120002row2_col2\" class=\"data row2 col2\" >-0.00402243</td> \n",
       "    </tr>    <tr> \n",
       "        <th id=\"T_09fd0ce4_38fc_11ea_88ca_0242ac120002level0_row3\" class=\"row_heading level0 row3\" >Part-time/evening courses</th> \n",
       "        <td id=\"T_09fd0ce4_38fc_11ea_88ca_0242ac120002row3_col0\" class=\"data row3 col0\" >0.101498</td> \n",
       "        <td id=\"T_09fd0ce4_38fc_11ea_88ca_0242ac120002row3_col1\" class=\"data row3 col1\" >0.103005</td> \n",
       "        <td id=\"T_09fd0ce4_38fc_11ea_88ca_0242ac120002row3_col2\" class=\"data row3 col2\" >-0.00150699</td> \n",
       "    </tr>    <tr> \n",
       "        <th id=\"T_09fd0ce4_38fc_11ea_88ca_0242ac120002level0_row4\" class=\"row_heading level0 row4\" >Bootcamp</th> \n",
       "        <td id=\"T_09fd0ce4_38fc_11ea_88ca_0242ac120002row4_col0\" class=\"data row4 col0\" >0.0731179</td> \n",
       "        <td id=\"T_09fd0ce4_38fc_11ea_88ca_0242ac120002row4_col1\" class=\"data row4 col1\" >0.0740695</td> \n",
       "        <td id=\"T_09fd0ce4_38fc_11ea_88ca_0242ac120002row4_col2\" class=\"data row4 col2\" >-0.000951639</td> \n",
       "    </tr>    <tr> \n",
       "        <th id=\"T_09fd0ce4_38fc_11ea_88ca_0242ac120002level0_row5\" class=\"row_heading level0 row5\" >Return to college</th> \n",
       "        <td id=\"T_09fd0ce4_38fc_11ea_88ca_0242ac120002row5_col0\" class=\"data row5 col0\" >0.0691762</td> \n",
       "        <td id=\"T_09fd0ce4_38fc_11ea_88ca_0242ac120002row5_col1\" class=\"data row5 col1\" >0.0691233</td> \n",
       "        <td id=\"T_09fd0ce4_38fc_11ea_88ca_0242ac120002row5_col2\" class=\"data row5 col2\" >5.29081e-05</td> \n",
       "    </tr>    <tr> \n",
       "        <th id=\"T_09fd0ce4_38fc_11ea_88ca_0242ac120002level0_row6\" class=\"row_heading level0 row6\" >Conferences/meet-ups</th> \n",
       "        <td id=\"T_09fd0ce4_38fc_11ea_88ca_0242ac120002row6_col0\" class=\"data row6 col0\" >0.0670083</td> \n",
       "        <td id=\"T_09fd0ce4_38fc_11ea_88ca_0242ac120002row6_col1\" class=\"data row6 col1\" >0.0740695</td> \n",
       "        <td id=\"T_09fd0ce4_38fc_11ea_88ca_0242ac120002row6_col2\" class=\"data row6 col2\" >-0.00706122</td> \n",
       "    </tr>    <tr> \n",
       "        <th id=\"T_09fd0ce4_38fc_11ea_88ca_0242ac120002level0_row7\" class=\"row_heading level0 row7\" >Master's degree</th> \n",
       "        <td id=\"T_09fd0ce4_38fc_11ea_88ca_0242ac120002row7_col0\" class=\"data row7 col0\" >0.0557745</td> \n",
       "        <td id=\"T_09fd0ce4_38fc_11ea_88ca_0242ac120002row7_col1\" class=\"data row7 col1\" >0.0302337</td> \n",
       "        <td id=\"T_09fd0ce4_38fc_11ea_88ca_0242ac120002row7_col2\" class=\"data row7 col2\" >0.0255408</td> \n",
       "    </tr>    <tr> \n",
       "        <th id=\"T_09fd0ce4_38fc_11ea_88ca_0242ac120002level0_row8\" class=\"row_heading level0 row8\" >Get a job as a QA tester</th> \n",
       "        <td id=\"T_09fd0ce4_38fc_11ea_88ca_0242ac120002row8_col0\" class=\"data row8 col0\" >0.0508475</td> \n",
       "        <td id=\"T_09fd0ce4_38fc_11ea_88ca_0242ac120002row8_col1\" class=\"data row8 col1\" >0.0481019</td> \n",
       "        <td id=\"T_09fd0ce4_38fc_11ea_88ca_0242ac120002row8_col2\" class=\"data row8 col2\" >0.00274557</td> \n",
       "    </tr>    <tr> \n",
       "        <th id=\"T_09fd0ce4_38fc_11ea_88ca_0242ac120002level0_row9\" class=\"row_heading level0 row9\" >Participate in online coding competitions</th> \n",
       "        <td id=\"T_09fd0ce4_38fc_11ea_88ca_0242ac120002row9_col0\" class=\"data row9 col0\" >0.0415845</td> \n",
       "        <td id=\"T_09fd0ce4_38fc_11ea_88ca_0242ac120002row9_col1\" class=\"data row9 col1\" >0.0487202</td> \n",
       "        <td id=\"T_09fd0ce4_38fc_11ea_88ca_0242ac120002row9_col2\" class=\"data row9 col2\" >-0.00713562</td> \n",
       "    </tr>    <tr> \n",
       "        <th id=\"T_09fd0ce4_38fc_11ea_88ca_0242ac120002level0_row10\" class=\"row_heading level0 row10\" >Participate in hackathons</th> \n",
       "        <td id=\"T_09fd0ce4_38fc_11ea_88ca_0242ac120002row10_col0\" class=\"data row10 col0\" >0.0321246</td> \n",
       "        <td id=\"T_09fd0ce4_38fc_11ea_88ca_0242ac120002row10_col1\" class=\"data row10 col1\" >0.03586</td> \n",
       "        <td id=\"T_09fd0ce4_38fc_11ea_88ca_0242ac120002row10_col2\" class=\"data row10 col2\" >-0.00373547</td> \n",
       "    </tr>    <tr> \n",
       "        <th id=\"T_09fd0ce4_38fc_11ea_88ca_0242ac120002level0_row11\" class=\"row_heading level0 row11\" >Other</th> \n",
       "        <td id=\"T_09fd0ce4_38fc_11ea_88ca_0242ac120002row11_col0\" class=\"data row11 col0\" >0.0244383</td> \n",
       "        <td id=\"T_09fd0ce4_38fc_11ea_88ca_0242ac120002row11_col1\" class=\"data row11 col1\" >0.0281934</td> \n",
       "        <td id=\"T_09fd0ce4_38fc_11ea_88ca_0242ac120002row11_col2\" class=\"data row11 col2\" >-0.00375508</td> \n",
       "    </tr>    <tr> \n",
       "        <th id=\"T_09fd0ce4_38fc_11ea_88ca_0242ac120002level0_row12\" class=\"row_heading level0 row12\" >None of these</th> \n",
       "        <td id=\"T_09fd0ce4_38fc_11ea_88ca_0242ac120002row12_col0\" class=\"data row12 col0\" >0.00945999</td> \n",
       "        <td id=\"T_09fd0ce4_38fc_11ea_88ca_0242ac120002row12_col1\" class=\"data row12 col1\" >0.00822307</td> \n",
       "        <td id=\"T_09fd0ce4_38fc_11ea_88ca_0242ac120002row12_col2\" class=\"data row12 col2\" >0.00123692</td> \n",
       "    </tr></tbody> \n",
       "</table> "
      ],
      "text/plain": [
       "<pandas.io.formats.style.Styler at 0x7f6eab936fd0>"
      ]
     },
     "execution_count": 31,
     "metadata": {},
     "output_type": "execute_result"
    }
   ],
   "source": [
    "#Check your subset is correct - you should get a plot that was created using pandas styling\n",
    "#which you can learn more about here: https://pandas.pydata.org/pandas-docs/stable/style.html\n",
    "\n",
    "ed_1_perc = clean_and_plot(ed_1, 'Higher Formal Education', plot=False)\n",
    "ed_0_perc = clean_and_plot(ed_0, 'Max of Bachelors Higher Ed', plot=False)\n",
    "\n",
    "comp_df = pd.merge(ed_1_perc, ed_0_perc, left_index=True, right_index=True)\n",
    "comp_df.columns = ['ed_1_perc', 'ed_0_perc']\n",
    "comp_df['Diff_HigherEd_Vals'] = comp_df['ed_1_perc'] - comp_df['ed_0_perc']\n",
    "comp_df.style.bar(subset=['Diff_HigherEd_Vals'], align='mid', color=['#d65f5f', '#5fba7d'])"
   ]
  },
  {
   "cell_type": "markdown",
   "metadata": {},
   "source": [
    "#### Question 5\n",
    "\n",
    "**5.** 上面的图表展现了什么信息？下列字典中的陈述，对于上面图表可以得出的结论，将其对应的值修改为 **True**，不能得出的结论则保留原来的 **False**。"
   ]
  },
  {
   "cell_type": "code",
   "execution_count": 37,
   "metadata": {},
   "outputs": [
    {
     "name": "stdout",
     "output_type": "stream",
     "text": [
      "Nice job that looks right!\n"
     ]
    }
   ],
   "source": [
    "sol = {'Everyone should get a higher level of formal education': False, \n",
    "       #无论正规教育如何，在线课程都是最受建议的教育形式\n",
    "       'Regardless of formal education, online courses are the top suggested form of education': True,\n",
    "       #两种教育形式的建议相差不到1％\n",
    "       'There is less than a 1% difference between suggestions of the two groups for all forms of education': False,\n",
    "       #受过正规教育的人比没有受过教育的人建议更多\n",
    "       'Those with higher formal education suggest it more than those who do not have it': True}\n",
    "\n",
    "t.conclusions(sol)"
   ]
  },
  {
   "cell_type": "markdown",
   "metadata": {},
   "source": [
    "这就从另一种角度对比了从业者对教育方式的建议。"
   ]
  },
  {
   "cell_type": "code",
   "execution_count": null,
   "metadata": {},
   "outputs": [],
   "source": []
  }
 ],
 "metadata": {
  "kernelspec": {
   "display_name": "Python 3",
   "language": "python",
   "name": "python3"
  },
  "language_info": {
   "codemirror_mode": {
    "name": "ipython",
    "version": 3
   },
   "file_extension": ".py",
   "mimetype": "text/x-python",
   "name": "python",
   "nbconvert_exporter": "python",
   "pygments_lexer": "ipython3",
   "version": "3.6.3"
  }
 },
 "nbformat": 4,
 "nbformat_minor": 2
}
